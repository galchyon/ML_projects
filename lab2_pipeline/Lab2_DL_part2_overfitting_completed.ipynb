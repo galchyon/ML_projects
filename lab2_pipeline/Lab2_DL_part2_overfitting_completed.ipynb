{
  "cells": [
    {
      "cell_type": "markdown",
      "metadata": {
        "id": "NFmOh482SyEF"
      },
      "source": [
        "## Lab 2\n",
        "### Part 2: Dealing with overfitting"
      ]
    },
    {
      "cell_type": "markdown",
      "metadata": {
        "id": "AjzAuO3oSvsI"
      },
      "source": [
        "Today we work with [Fashion-MNIST dataset](https://github.com/zalandoresearch/fashion-mnist) (*hint: it is available in `torchvision`*).\n",
        "\n",
        "Your goal for today:\n",
        "1. Train a FC (fully-connected) network that achieves >= 0.885 test accuracy.\n",
        "2. Cause considerable overfitting by modifying the network (e.g. increasing the number of network parameters and/or layers) and demonstrate in in the appropriate way (e.g. plot loss and accurasy on train and validation set w.r.t. network complexity).\n",
        "3. Try to deal with overfitting (at least partially) by using regularization techniques (Dropout/Batchnorm/...) and demonstrate the results.\n",
        "\n",
        "__Please, write a small report describing your ideas, tries and achieved results in the end of this file.__\n",
        "\n",
        "*Note*: Tasks 2 and 3 are interrelated, in task 3 your goal is to make the network from task 2 less prone to overfitting. Task 1 is independent from 2 and 3.\n",
        "\n",
        "*Note 2*: We recomment to use Google Colab or other machine with GPU acceleration."
      ]
    },
    {
      "cell_type": "code",
      "execution_count": 1,
      "metadata": {
        "id": "_KBld6VOSwhW"
      },
      "outputs": [],
      "source": [
        "import torch\n",
        "import torch.nn as nn\n",
        "import torchvision\n",
        "import torchvision.transforms as transforms\n",
        "import torchsummary\n",
        "from IPython.display import clear_output\n",
        "from matplotlib import pyplot as plt\n",
        "from matplotlib.pyplot import figure\n",
        "import numpy as np\n",
        "import os\n",
        "\n",
        "\n",
        "device = 'cuda:0' if torch.cuda.is_available() else 'cpu'"
      ]
    },
    {
      "cell_type": "code",
      "execution_count": 2,
      "metadata": {
        "colab": {
          "base_uri": "https://localhost:8080/"
        },
        "id": "EdLOG0XqS_g5",
        "outputId": "8e14aa3c-8fdd-4994-b506-d70d393e19ec"
      },
      "outputs": [
        {
          "output_type": "stream",
          "name": "stdout",
          "text": [
            "Directory fmnist is created!\n"
          ]
        }
      ],
      "source": [
        "# Technical function\n",
        "def mkdir(path):\n",
        "    if not os.path.exists(root_path):\n",
        "        os.mkdir(root_path)\n",
        "        print('Directory', path, 'is created!')\n",
        "    else:\n",
        "        print('Directory', path, 'already exists!')\n",
        "\n",
        "root_path = 'fmnist'\n",
        "mkdir(root_path)"
      ]
    },
    {
      "cell_type": "code",
      "execution_count": 3,
      "metadata": {
        "id": "qt6LE7XaTDT9",
        "colab": {
          "base_uri": "https://localhost:8080/"
        },
        "outputId": "00c1c47f-f7e4-42cb-f3e6-f79ddd32ff8f"
      },
      "outputs": [
        {
          "output_type": "stream",
          "name": "stdout",
          "text": [
            "Downloading http://fashion-mnist.s3-website.eu-central-1.amazonaws.com/train-images-idx3-ubyte.gz\n",
            "Downloading http://fashion-mnist.s3-website.eu-central-1.amazonaws.com/train-images-idx3-ubyte.gz to fmnist/FashionMNIST/raw/train-images-idx3-ubyte.gz\n"
          ]
        },
        {
          "output_type": "stream",
          "name": "stderr",
          "text": [
            "100%|██████████| 26421880/26421880 [00:02<00:00, 12423706.15it/s]\n"
          ]
        },
        {
          "output_type": "stream",
          "name": "stdout",
          "text": [
            "Extracting fmnist/FashionMNIST/raw/train-images-idx3-ubyte.gz to fmnist/FashionMNIST/raw\n",
            "\n",
            "Downloading http://fashion-mnist.s3-website.eu-central-1.amazonaws.com/train-labels-idx1-ubyte.gz\n",
            "Downloading http://fashion-mnist.s3-website.eu-central-1.amazonaws.com/train-labels-idx1-ubyte.gz to fmnist/FashionMNIST/raw/train-labels-idx1-ubyte.gz\n"
          ]
        },
        {
          "output_type": "stream",
          "name": "stderr",
          "text": [
            "100%|██████████| 29515/29515 [00:00<00:00, 205457.09it/s]\n"
          ]
        },
        {
          "output_type": "stream",
          "name": "stdout",
          "text": [
            "Extracting fmnist/FashionMNIST/raw/train-labels-idx1-ubyte.gz to fmnist/FashionMNIST/raw\n",
            "\n",
            "Downloading http://fashion-mnist.s3-website.eu-central-1.amazonaws.com/t10k-images-idx3-ubyte.gz\n",
            "Downloading http://fashion-mnist.s3-website.eu-central-1.amazonaws.com/t10k-images-idx3-ubyte.gz to fmnist/FashionMNIST/raw/t10k-images-idx3-ubyte.gz\n"
          ]
        },
        {
          "output_type": "stream",
          "name": "stderr",
          "text": [
            "100%|██████████| 4422102/4422102 [00:01<00:00, 3862450.95it/s]\n"
          ]
        },
        {
          "output_type": "stream",
          "name": "stdout",
          "text": [
            "Extracting fmnist/FashionMNIST/raw/t10k-images-idx3-ubyte.gz to fmnist/FashionMNIST/raw\n",
            "\n",
            "Downloading http://fashion-mnist.s3-website.eu-central-1.amazonaws.com/t10k-labels-idx1-ubyte.gz\n",
            "Downloading http://fashion-mnist.s3-website.eu-central-1.amazonaws.com/t10k-labels-idx1-ubyte.gz to fmnist/FashionMNIST/raw/t10k-labels-idx1-ubyte.gz\n"
          ]
        },
        {
          "output_type": "stream",
          "name": "stderr",
          "text": [
            "100%|██████████| 5148/5148 [00:00<00:00, 6499782.36it/s]"
          ]
        },
        {
          "output_type": "stream",
          "name": "stdout",
          "text": [
            "Extracting fmnist/FashionMNIST/raw/t10k-labels-idx1-ubyte.gz to fmnist/FashionMNIST/raw\n",
            "\n"
          ]
        },
        {
          "output_type": "stream",
          "name": "stderr",
          "text": [
            "\n"
          ]
        }
      ],
      "source": [
        "download = True\n",
        "train_transform = transforms.ToTensor()\n",
        "test_transform = transforms.ToTensor()\n",
        "transforms.Compose((transforms.ToTensor()))\n",
        "\n",
        "\n",
        "fmnist_dataset_train = torchvision.datasets.FashionMNIST(root_path,\n",
        "                                                        train=True,\n",
        "                                                        transform=train_transform,\n",
        "                                                        target_transform=None,\n",
        "                                                        download=download)\n",
        "fmnist_dataset_test = torchvision.datasets.FashionMNIST(root_path,\n",
        "                                                       train=False,\n",
        "                                                       transform=test_transform,\n",
        "                                                       target_transform=None,\n",
        "                                                       download=download)"
      ]
    },
    {
      "cell_type": "code",
      "execution_count": 4,
      "metadata": {
        "id": "71YP0SPwTIxD"
      },
      "outputs": [],
      "source": [
        "train_loader = torch.utils.data.DataLoader(fmnist_dataset_train,\n",
        "                                           batch_size=128,\n",
        "                                           shuffle=True,\n",
        "                                           num_workers=2)\n",
        "test_loader = torch.utils.data.DataLoader(fmnist_dataset_test,\n",
        "                                          batch_size=256,\n",
        "                                          shuffle=False,\n",
        "                                          num_workers=2)"
      ]
    },
    {
      "cell_type": "code",
      "execution_count": 5,
      "metadata": {
        "colab": {
          "base_uri": "https://localhost:8080/"
        },
        "id": "v_YFmF7NTWrQ",
        "outputId": "058c9d6c-fff2-44bb-93f0-e05d7afc820d"
      },
      "outputs": [
        {
          "output_type": "execute_result",
          "data": {
            "text/plain": [
              "10000"
            ]
          },
          "metadata": {},
          "execution_count": 5
        }
      ],
      "source": [
        "len(fmnist_dataset_test)"
      ]
    },
    {
      "cell_type": "code",
      "execution_count": 6,
      "metadata": {
        "colab": {
          "base_uri": "https://localhost:8080/"
        },
        "id": "aHca15bOTY4B",
        "outputId": "1f71676c-e3f4-4132-8116-f4fc6d63e941"
      },
      "outputs": [
        {
          "output_type": "stream",
          "name": "stdout",
          "text": [
            "torch.Size([128, 1, 28, 28])\n",
            "torch.Size([128])\n",
            "128\n"
          ]
        }
      ],
      "source": [
        "for img, label in train_loader:\n",
        "    print(img.shape)\n",
        "#     print(img)\n",
        "    print(label.shape)\n",
        "    print(label.size(0))\n",
        "    break"
      ]
    },
    {
      "cell_type": "markdown",
      "source": [
        "Информация о датасете с кагла:\n",
        "\n",
        "Fashion-MNIST is a dataset of Zalando's article images—consisting of a training set of 60,000 examples and a test set of 10,000 examples. Each example is a 28x28 grayscale image, associated with a label from 10 classes."
      ],
      "metadata": {
        "id": "QfEuOJd7iu0S"
      }
    },
    {
      "cell_type": "markdown",
      "metadata": {
        "id": "b6OOOffHTfX5"
      },
      "source": [
        "### Task 1\n",
        "Train a network that achieves $\\geq 0.885$ test accuracy. It's fine to use only Linear (`nn.Linear`) layers and activations/dropout/batchnorm. Convolutional layers might be a great use, but we will meet them a bit later."
      ]
    },
    {
      "cell_type": "code",
      "execution_count": 7,
      "metadata": {
        "id": "ftpkTjxlTcFx"
      },
      "outputs": [],
      "source": [
        "class TinyNeuralNetwork(nn.Module):\n",
        "    def __init__(self, input_shape=28*28, num_classes=10, input_channels=1):\n",
        "        super(self.__class__, self).__init__()\n",
        "        self.model = nn.Sequential(\n",
        "            nn.Flatten(), # This layer converts image into a vector to use Linear layers afterwards\n",
        "            # Your network structure comes here\n",
        "            nn.BatchNorm1d(input_shape),\n",
        "            nn.Dropout(0.3),\n",
        "            nn.Linear(input_shape, 392),\n",
        "            nn.ReLU(),\n",
        "            nn.Dropout(0.3),\n",
        "            nn.Linear(392, 196),\n",
        "            nn.ReLU(),\n",
        "            nn.Linear(196, num_classes),\n",
        "            nn.LogSoftmax(dim=1)\n",
        "        )\n",
        "\n",
        "    def forward(self, inp):\n",
        "        out = self.model(inp)\n",
        "\n",
        "        return out"
      ]
    },
    {
      "cell_type": "code",
      "execution_count": 8,
      "metadata": {
        "colab": {
          "base_uri": "https://localhost:8080/"
        },
        "id": "KlpC34EQAsas",
        "outputId": "872aad0e-40f6-4b1d-a622-1c6448d9c4ed"
      },
      "outputs": [
        {
          "output_type": "stream",
          "name": "stdout",
          "text": [
            "----------------------------------------------------------------\n",
            "        Layer (type)               Output Shape         Param #\n",
            "================================================================\n",
            "           Flatten-1                  [-1, 784]               0\n",
            "       BatchNorm1d-2                  [-1, 784]           1,568\n",
            "           Dropout-3                  [-1, 784]               0\n",
            "            Linear-4                  [-1, 392]         307,720\n",
            "              ReLU-5                  [-1, 392]               0\n",
            "           Dropout-6                  [-1, 392]               0\n",
            "            Linear-7                  [-1, 196]          77,028\n",
            "              ReLU-8                  [-1, 196]               0\n",
            "            Linear-9                   [-1, 10]           1,970\n",
            "       LogSoftmax-10                   [-1, 10]               0\n",
            "================================================================\n",
            "Total params: 388,286\n",
            "Trainable params: 388,286\n",
            "Non-trainable params: 0\n",
            "----------------------------------------------------------------\n",
            "Input size (MB): 0.00\n",
            "Forward/backward pass size (MB): 0.03\n",
            "Params size (MB): 1.48\n",
            "Estimated Total Size (MB): 1.51\n",
            "----------------------------------------------------------------\n"
          ]
        }
      ],
      "source": [
        "torchsummary.summary(TinyNeuralNetwork().to(device), (28*28,))"
      ]
    },
    {
      "cell_type": "markdown",
      "metadata": {
        "id": "544PGKEnjPr5"
      },
      "source": [
        "Your experiments come here:"
      ]
    },
    {
      "cell_type": "code",
      "source": [
        "def accuracy(logit, target, batch_size):\n",
        "  corrects = (torch.max(logit, 1)[1].view(target.size()).data == target.data).sum()\n",
        "  acc = 100.0*corrects/batch_size\n",
        "  return acc.item()\n",
        "\n",
        "\n",
        "def train_model(model, train_loader, val_loader, loss_func, opt, n_epochs: int):\n",
        "    train_loss = []\n",
        "    val_loss = []\n",
        "    val_accuracy = []\n",
        "    train_accuracy = []\n",
        "\n",
        "    for epoch in range(n_epochs):\n",
        "        ep_train_loss = []\n",
        "        ep_val_loss = []\n",
        "        ep_val_accuracy = []\n",
        "        ep_train_accuracy = []\n",
        "\n",
        "        model.train(True) # enable dropout / batch_norm training behavior\n",
        "        for X_batch, y_batch in train_loader:\n",
        "            X_batch = X_batch.to(device)\n",
        "            y_batch = y_batch.to(device)\n",
        "\n",
        "\n",
        "            logits = model.forward(X_batch)\n",
        "\n",
        "            loss = loss_func(logits, y_batch)\n",
        "            opt.zero_grad()\n",
        "            loss.backward()\n",
        "            opt.step()\n",
        "\n",
        "            ep_train_loss.append(loss.item())\n",
        "            y_pred = logits.max(dim=1)[1]\n",
        "            ep_train_accuracy.append(((y_pred==y_batch).detach().cpu().numpy().mean()))\n",
        "\n",
        "        model.train(False) # disable dropout / use averages for batch_norm\n",
        "        with torch.no_grad():\n",
        "            for X_batch, y_batch in val_loader:\n",
        "                X_batch = X_batch.to(device)\n",
        "                y_batch = y_batch.to(device)\n",
        "\n",
        "                y_pred = model.forward(X_batch)\n",
        "                loss = loss_func(y_pred, y_batch)\n",
        "                ep_val_loss.append(loss.item())\n",
        "                y_pred = y_pred.max(dim=1)[1]\n",
        "\n",
        "                ep_val_accuracy.append(((y_pred==y_batch).detach().cpu().numpy().mean()))\n",
        "\n",
        "        # print the results for this epoch:\n",
        "        print(f'Epoch {epoch + 1} of {n_epochs}')\n",
        "\n",
        "        train_loss.append(np.mean(ep_train_loss))\n",
        "        val_loss.append(np.mean(ep_val_loss))\n",
        "        val_accuracy.append(np.mean(ep_val_accuracy))\n",
        "        train_accuracy.append(np.mean(ep_train_accuracy))\n",
        "\n",
        "        print(f\"\\t  training loss: {train_loss[-1]:.6f}\")\n",
        "        print(f\"\\tvalidation loss: {val_loss[-1]:.6f}\")\n",
        "        print(f\"\\tvalidation accuracy: {val_accuracy[-1]:.3f}\")\n",
        "        print(f\"\\ttrain accuracy: {train_accuracy[-1]:.3f}\")\n",
        "\n",
        "    return train_loss, val_loss, val_accuracy, train_accuracy\n",
        "\n",
        "def plot_train_process(train_loss, val_loss, val_accuracy, train_accuracy):\n",
        "    plt.rcParams['axes.grid'] = True\n",
        "    fig, axes = plt.subplots(1, 2, figsize=(15, 5))\n",
        "\n",
        "    axes[0].set_title('Loss')\n",
        "    axes[0].plot(train_loss, label='train')\n",
        "    axes[0].plot(val_loss, label='validation')\n",
        "\n",
        "    axes[0].legend()\n",
        "\n",
        "    axes[1].set_title('Accuracy')\n",
        "    axes[1].plot(train_accuracy, label='train')\n",
        "    axes[1].plot(val_accuracy, label='validation')\n",
        "    axes[1].legend()\n",
        "\n",
        "def get_acc(test_loader):\n",
        "  test_acc=0.0\n",
        "  for i, (images, labels) in enumerate(test_loader, 0):\n",
        "    images = images.to(device)\n",
        "    labels = labels.to(device)\n",
        "    outs = model(images)\n",
        "    test_acc += accuracy(outs, labels, 256)\n",
        "\n",
        "  return test_acc/i"
      ],
      "metadata": {
        "id": "1rLXkXgr_uN6"
      },
      "execution_count": 15,
      "outputs": []
    },
    {
      "cell_type": "code",
      "execution_count": 18,
      "metadata": {
        "colab": {
          "base_uri": "https://localhost:8080/",
          "height": 1000
        },
        "id": "i3POFj90Ti-6",
        "outputId": "41058824-bbaa-4594-ecda-794f20bfe63d"
      },
      "outputs": [
        {
          "output_type": "stream",
          "name": "stdout",
          "text": [
            "Epoch 1 of 10\n",
            "\t  training loss: 0.519548\n",
            "\tvalidation loss: 0.397377\n",
            "\tvalidation accuracy: 0.854\n",
            "\ttrain accuracy: 0.812\n",
            "Epoch 2 of 10\n",
            "\t  training loss: 0.402192\n",
            "\tvalidation loss: 0.362356\n",
            "\tvalidation accuracy: 0.867\n",
            "\ttrain accuracy: 0.853\n",
            "Epoch 3 of 10\n",
            "\t  training loss: 0.368545\n",
            "\tvalidation loss: 0.346816\n",
            "\tvalidation accuracy: 0.871\n",
            "\ttrain accuracy: 0.861\n",
            "Epoch 4 of 10\n",
            "\t  training loss: 0.351696\n",
            "\tvalidation loss: 0.329923\n",
            "\tvalidation accuracy: 0.876\n",
            "\ttrain accuracy: 0.868\n",
            "Epoch 5 of 10\n",
            "\t  training loss: 0.337427\n",
            "\tvalidation loss: 0.333140\n",
            "\tvalidation accuracy: 0.877\n",
            "\ttrain accuracy: 0.874\n",
            "Epoch 6 of 10\n",
            "\t  training loss: 0.325502\n",
            "\tvalidation loss: 0.321018\n",
            "\tvalidation accuracy: 0.882\n",
            "\ttrain accuracy: 0.878\n",
            "Epoch 7 of 10\n",
            "\t  training loss: 0.312210\n",
            "\tvalidation loss: 0.306984\n",
            "\tvalidation accuracy: 0.890\n",
            "\ttrain accuracy: 0.884\n",
            "Epoch 8 of 10\n",
            "\t  training loss: 0.303355\n",
            "\tvalidation loss: 0.318391\n",
            "\tvalidation accuracy: 0.884\n",
            "\ttrain accuracy: 0.885\n",
            "Epoch 9 of 10\n",
            "\t  training loss: 0.298232\n",
            "\tvalidation loss: 0.301170\n",
            "\tvalidation accuracy: 0.890\n",
            "\ttrain accuracy: 0.888\n",
            "Epoch 10 of 10\n",
            "\t  training loss: 0.290917\n",
            "\tvalidation loss: 0.300949\n",
            "\tvalidation accuracy: 0.889\n",
            "\ttrain accuracy: 0.890\n"
          ]
        },
        {
          "output_type": "display_data",
          "data": {
            "text/plain": [
              "<Figure size 1500x500 with 2 Axes>"
            ],
            "image/png": "[encoded data removed]"
          },
          "metadata": {}
        }
      ],
      "source": [
        "model = TinyNeuralNetwork().to(device)\n",
        "opt = torch.optim.Adam(model.parameters(), lr=1e-3)\n",
        "loss_func = nn.CrossEntropyLoss()\n",
        "n_epochs = 10\n",
        "\n",
        "\n",
        "train_loss, val_loss, val_accuracy, train_accuracy = train_model(model, train_loader, test_loader, loss_func, opt, n_epochs)\n",
        "\n",
        "plot_train_process(train_loss, val_loss, val_accuracy, train_accuracy)"
      ]
    },
    {
      "cell_type": "code",
      "source": [
        "get_acc(test_loader)"
      ],
      "metadata": {
        "colab": {
          "base_uri": "https://localhost:8080/"
        },
        "id": "N-0SAuBgMcQ1",
        "outputId": "f55fece2-9c99-47e1-fb97-3aef284941c8"
      },
      "execution_count": 19,
      "outputs": [
        {
          "output_type": "execute_result",
          "data": {
            "text/plain": [
              "89.07251602564102"
            ]
          },
          "metadata": {},
          "execution_count": 19
        }
      ]
    },
    {
      "cell_type": "markdown",
      "source": [
        "Требуемая точность достигнута, переобучения на графие лоссов не наблюдается - он снижается для и для тестовой, и для трейновой выборки"
      ],
      "metadata": {
        "id": "U9Fl3Hj5iMcH"
      }
    },
    {
      "cell_type": "markdown",
      "metadata": {
        "id": "L7ISqkjmCPB1"
      },
      "source": [
        "### Task 2: Overfit it.\n",
        "Build a network that will overfit to this dataset. Demonstrate the overfitting in the appropriate way (e.g. plot loss and accurasy on train and test set w.r.t. network complexity).\n",
        "\n",
        "*Note:* you also might decrease the size of `train` dataset to enforce the overfitting and speed up the computations."
      ]
    },
    {
      "cell_type": "code",
      "execution_count": 21,
      "metadata": {
        "id": "H12uAWiGBwJx"
      },
      "outputs": [],
      "source": [
        "class OverfittingNeuralNetwork(nn.Module):\n",
        "    def __init__(self, input_shape=28*28, num_classes=10, input_channels=1):\n",
        "        super(self.__class__, self).__init__()\n",
        "        self.model = nn.Sequential(\n",
        "            nn.Flatten(), # This layer converts image into a vector to use Linear layers afterwards\n",
        "            # Your network structure comes here\n",
        "            nn.BatchNorm1d(input_shape),\n",
        "            nn.Linear(input_shape, input_shape),\n",
        "            nn.ReLU(),\n",
        "            nn.Linear(input_shape, 392),\n",
        "            nn.ReLU(),\n",
        "            nn.Linear(392, 320),\n",
        "            nn.ReLU(),\n",
        "            nn.Linear(320, 280),\n",
        "            nn.ReLU(),\n",
        "            nn.Linear(280, 220),\n",
        "            nn.ReLU(),\n",
        "            nn.Linear(220, 220),\n",
        "            nn.ReLU(),\n",
        "            nn.Linear(220, 180),\n",
        "            nn.ReLU(),\n",
        "            nn.Linear(180, 120),\n",
        "            nn.ReLU(),\n",
        "            nn.Linear(120, 80),\n",
        "            nn.ReLU(),\n",
        "            nn.Linear(80, 20),\n",
        "            nn.ReLU(),\n",
        "            nn.Linear(20, num_classes),\n",
        "            nn.LogSoftmax(dim=1)\n",
        "        )\n",
        "\n",
        "    def forward(self, inp):\n",
        "        out = self.model(inp)\n",
        "        return out"
      ]
    },
    {
      "cell_type": "code",
      "execution_count": 22,
      "metadata": {
        "colab": {
          "base_uri": "https://localhost:8080/"
        },
        "id": "JgXAKCpvCwqH",
        "outputId": "6061ec68-60f2-466f-f938-f6f71aaa3e99"
      },
      "outputs": [
        {
          "output_type": "stream",
          "name": "stdout",
          "text": [
            "----------------------------------------------------------------\n",
            "        Layer (type)               Output Shape         Param #\n",
            "================================================================\n",
            "           Flatten-1                  [-1, 784]               0\n",
            "       BatchNorm1d-2                  [-1, 784]           1,568\n",
            "            Linear-3                  [-1, 784]         615,440\n",
            "              ReLU-4                  [-1, 784]               0\n",
            "            Linear-5                  [-1, 392]         307,720\n",
            "              ReLU-6                  [-1, 392]               0\n",
            "            Linear-7                  [-1, 320]         125,760\n",
            "              ReLU-8                  [-1, 320]               0\n",
            "            Linear-9                  [-1, 280]          89,880\n",
            "             ReLU-10                  [-1, 280]               0\n",
            "           Linear-11                  [-1, 220]          61,820\n",
            "             ReLU-12                  [-1, 220]               0\n",
            "           Linear-13                  [-1, 220]          48,620\n",
            "             ReLU-14                  [-1, 220]               0\n",
            "           Linear-15                  [-1, 180]          39,780\n",
            "             ReLU-16                  [-1, 180]               0\n",
            "           Linear-17                  [-1, 120]          21,720\n",
            "             ReLU-18                  [-1, 120]               0\n",
            "           Linear-19                   [-1, 80]           9,680\n",
            "             ReLU-20                   [-1, 80]               0\n",
            "           Linear-21                   [-1, 20]           1,620\n",
            "             ReLU-22                   [-1, 20]               0\n",
            "           Linear-23                   [-1, 10]             210\n",
            "       LogSoftmax-24                   [-1, 10]               0\n",
            "================================================================\n",
            "Total params: 1,323,818\n",
            "Trainable params: 1,323,818\n",
            "Non-trainable params: 0\n",
            "----------------------------------------------------------------\n",
            "Input size (MB): 0.00\n",
            "Forward/backward pass size (MB): 0.05\n",
            "Params size (MB): 5.05\n",
            "Estimated Total Size (MB): 5.10\n",
            "----------------------------------------------------------------\n"
          ]
        }
      ],
      "source": [
        "torchsummary.summary(OverfittingNeuralNetwork().to(device), (28*28,))"
      ]
    },
    {
      "cell_type": "code",
      "source": [
        "numbers = np.random.randint(0, high=len(fmnist_dataset_train), size=2000, dtype=int)\n",
        "short_train = torch.utils.data.Subset(fmnist_dataset_train, numbers)\n",
        "len(short_train)"
      ],
      "metadata": {
        "colab": {
          "base_uri": "https://localhost:8080/"
        },
        "id": "4HlsP0fBUDa1",
        "outputId": "df0fefc1-ab3b-4cba-bac5-213d678a81cf"
      },
      "execution_count": 23,
      "outputs": [
        {
          "output_type": "execute_result",
          "data": {
            "text/plain": [
              "2000"
            ]
          },
          "metadata": {},
          "execution_count": 23
        }
      ]
    },
    {
      "cell_type": "code",
      "source": [
        "\n",
        "train_loader_short = torch.utils.data.DataLoader(short_train,\n",
        "                                           batch_size=128,\n",
        "                                           shuffle=True,\n",
        "                                           num_workers=2)"
      ],
      "metadata": {
        "id": "IyxBAb3vTuoK"
      },
      "execution_count": 24,
      "outputs": []
    },
    {
      "cell_type": "code",
      "execution_count": 25,
      "metadata": {
        "colab": {
          "base_uri": "https://localhost:8080/",
          "height": 1000
        },
        "id": "HXVRpMelAsau",
        "outputId": "69e542fb-b50c-44f4-9444-a8637ec4587d"
      },
      "outputs": [
        {
          "output_type": "stream",
          "name": "stdout",
          "text": [
            "Epoch 1 of 40\n",
            "\t  training loss: 2.199540\n",
            "\tvalidation loss: 1.934111\n",
            "\tvalidation accuracy: 0.321\n",
            "\ttrain accuracy: 0.187\n",
            "Epoch 2 of 40\n",
            "\t  training loss: 1.474854\n",
            "\tvalidation loss: 1.275149\n",
            "\tvalidation accuracy: 0.466\n",
            "\ttrain accuracy: 0.451\n",
            "Epoch 3 of 40\n",
            "\t  training loss: 1.068623\n",
            "\tvalidation loss: 0.999299\n",
            "\tvalidation accuracy: 0.599\n",
            "\ttrain accuracy: 0.549\n",
            "Epoch 4 of 40\n",
            "\t  training loss: 0.813832\n",
            "\tvalidation loss: 0.878794\n",
            "\tvalidation accuracy: 0.639\n",
            "\ttrain accuracy: 0.661\n",
            "Epoch 5 of 40\n",
            "\t  training loss: 0.725041\n",
            "\tvalidation loss: 0.824711\n",
            "\tvalidation accuracy: 0.655\n",
            "\ttrain accuracy: 0.695\n",
            "Epoch 6 of 40\n",
            "\t  training loss: 0.656773\n",
            "\tvalidation loss: 0.832119\n",
            "\tvalidation accuracy: 0.683\n",
            "\ttrain accuracy: 0.709\n",
            "Epoch 7 of 40\n",
            "\t  training loss: 0.602151\n",
            "\tvalidation loss: 0.828232\n",
            "\tvalidation accuracy: 0.725\n",
            "\ttrain accuracy: 0.736\n",
            "Epoch 8 of 40\n",
            "\t  training loss: 0.599282\n",
            "\tvalidation loss: 0.999957\n",
            "\tvalidation accuracy: 0.670\n",
            "\ttrain accuracy: 0.765\n",
            "Epoch 9 of 40\n",
            "\t  training loss: 0.538763\n",
            "\tvalidation loss: 0.893988\n",
            "\tvalidation accuracy: 0.689\n",
            "\ttrain accuracy: 0.788\n",
            "Epoch 10 of 40\n",
            "\t  training loss: 0.482718\n",
            "\tvalidation loss: 0.960901\n",
            "\tvalidation accuracy: 0.725\n",
            "\ttrain accuracy: 0.805\n",
            "Epoch 11 of 40\n",
            "\t  training loss: 0.543630\n",
            "\tvalidation loss: 1.160909\n",
            "\tvalidation accuracy: 0.684\n",
            "\ttrain accuracy: 0.787\n",
            "Epoch 12 of 40\n",
            "\t  training loss: 0.525860\n",
            "\tvalidation loss: 0.864731\n",
            "\tvalidation accuracy: 0.760\n",
            "\ttrain accuracy: 0.806\n",
            "Epoch 13 of 40\n",
            "\t  training loss: 0.422277\n",
            "\tvalidation loss: 0.874648\n",
            "\tvalidation accuracy: 0.767\n",
            "\ttrain accuracy: 0.836\n",
            "Epoch 14 of 40\n",
            "\t  training loss: 0.392492\n",
            "\tvalidation loss: 0.976484\n",
            "\tvalidation accuracy: 0.723\n",
            "\ttrain accuracy: 0.837\n",
            "Epoch 15 of 40\n",
            "\t  training loss: 0.372639\n",
            "\tvalidation loss: 0.921991\n",
            "\tvalidation accuracy: 0.761\n",
            "\ttrain accuracy: 0.849\n",
            "Epoch 16 of 40\n",
            "\t  training loss: 0.365884\n",
            "\tvalidation loss: 1.044894\n",
            "\tvalidation accuracy: 0.757\n",
            "\ttrain accuracy: 0.856\n",
            "Epoch 17 of 40\n",
            "\t  training loss: 0.333238\n",
            "\tvalidation loss: 1.105762\n",
            "\tvalidation accuracy: 0.749\n",
            "\ttrain accuracy: 0.866\n",
            "Epoch 18 of 40\n",
            "\t  training loss: 0.405855\n",
            "\tvalidation loss: 1.120105\n",
            "\tvalidation accuracy: 0.750\n",
            "\ttrain accuracy: 0.843\n",
            "Epoch 19 of 40\n",
            "\t  training loss: 0.348688\n",
            "\tvalidation loss: 1.022321\n",
            "\tvalidation accuracy: 0.759\n",
            "\ttrain accuracy: 0.859\n",
            "Epoch 20 of 40\n",
            "\t  training loss: 0.311282\n",
            "\tvalidation loss: 1.204351\n",
            "\tvalidation accuracy: 0.754\n",
            "\ttrain accuracy: 0.875\n",
            "Epoch 21 of 40\n",
            "\t  training loss: 0.290705\n",
            "\tvalidation loss: 1.307438\n",
            "\tvalidation accuracy: 0.759\n",
            "\ttrain accuracy: 0.878\n",
            "Epoch 22 of 40\n",
            "\t  training loss: 0.293198\n",
            "\tvalidation loss: 1.174668\n",
            "\tvalidation accuracy: 0.761\n",
            "\ttrain accuracy: 0.880\n",
            "Epoch 23 of 40\n",
            "\t  training loss: 0.275168\n",
            "\tvalidation loss: 1.205939\n",
            "\tvalidation accuracy: 0.769\n",
            "\ttrain accuracy: 0.886\n",
            "Epoch 24 of 40\n",
            "\t  training loss: 0.242731\n",
            "\tvalidation loss: 1.284142\n",
            "\tvalidation accuracy: 0.773\n",
            "\ttrain accuracy: 0.901\n",
            "Epoch 25 of 40\n",
            "\t  training loss: 0.274905\n",
            "\tvalidation loss: 1.215469\n",
            "\tvalidation accuracy: 0.758\n",
            "\ttrain accuracy: 0.889\n",
            "Epoch 26 of 40\n",
            "\t  training loss: 0.238299\n",
            "\tvalidation loss: 1.383239\n",
            "\tvalidation accuracy: 0.760\n",
            "\ttrain accuracy: 0.896\n",
            "Epoch 27 of 40\n",
            "\t  training loss: 0.323431\n",
            "\tvalidation loss: 1.035817\n",
            "\tvalidation accuracy: 0.767\n",
            "\ttrain accuracy: 0.865\n",
            "Epoch 28 of 40\n",
            "\t  training loss: 0.256196\n",
            "\tvalidation loss: 1.254282\n",
            "\tvalidation accuracy: 0.771\n",
            "\ttrain accuracy: 0.886\n",
            "Epoch 29 of 40\n",
            "\t  training loss: 0.262122\n",
            "\tvalidation loss: 1.357929\n",
            "\tvalidation accuracy: 0.766\n",
            "\ttrain accuracy: 0.886\n",
            "Epoch 30 of 40\n",
            "\t  training loss: 0.333911\n",
            "\tvalidation loss: 1.288734\n",
            "\tvalidation accuracy: 0.736\n",
            "\ttrain accuracy: 0.866\n",
            "Epoch 31 of 40\n",
            "\t  training loss: 0.326368\n",
            "\tvalidation loss: 1.073348\n",
            "\tvalidation accuracy: 0.758\n",
            "\ttrain accuracy: 0.869\n",
            "Epoch 32 of 40\n",
            "\t  training loss: 0.478095\n",
            "\tvalidation loss: 1.615754\n",
            "\tvalidation accuracy: 0.689\n",
            "\ttrain accuracy: 0.840\n",
            "Epoch 33 of 40\n",
            "\t  training loss: 0.529563\n",
            "\tvalidation loss: 1.082283\n",
            "\tvalidation accuracy: 0.720\n",
            "\ttrain accuracy: 0.786\n",
            "Epoch 34 of 40\n",
            "\t  training loss: 0.411912\n",
            "\tvalidation loss: 1.149087\n",
            "\tvalidation accuracy: 0.758\n",
            "\ttrain accuracy: 0.830\n",
            "Epoch 35 of 40\n",
            "\t  training loss: 0.298347\n",
            "\tvalidation loss: 1.241608\n",
            "\tvalidation accuracy: 0.757\n",
            "\ttrain accuracy: 0.884\n",
            "Epoch 36 of 40\n",
            "\t  training loss: 0.226131\n",
            "\tvalidation loss: 1.301504\n",
            "\tvalidation accuracy: 0.772\n",
            "\ttrain accuracy: 0.901\n",
            "Epoch 37 of 40\n",
            "\t  training loss: 0.214110\n",
            "\tvalidation loss: 1.640122\n",
            "\tvalidation accuracy: 0.764\n",
            "\ttrain accuracy: 0.908\n",
            "Epoch 38 of 40\n",
            "\t  training loss: 0.240694\n",
            "\tvalidation loss: 1.193458\n",
            "\tvalidation accuracy: 0.774\n",
            "\ttrain accuracy: 0.888\n",
            "Epoch 39 of 40\n",
            "\t  training loss: 0.188076\n",
            "\tvalidation loss: 1.433350\n",
            "\tvalidation accuracy: 0.787\n",
            "\ttrain accuracy: 0.921\n",
            "Epoch 40 of 40\n",
            "\t  training loss: 0.162534\n",
            "\tvalidation loss: 1.663647\n",
            "\tvalidation accuracy: 0.785\n",
            "\ttrain accuracy: 0.939\n"
          ]
        },
        {
          "output_type": "display_data",
          "data": {
            "text/plain": [
              "<Figure size 1500x500 with 2 Axes>"
            ],
            "image/png": "[encoded data removed]"
          },
          "metadata": {}
        }
      ],
      "source": [
        "model = OverfittingNeuralNetwork().to(device)\n",
        "opt = torch.optim.Adam(model.parameters(), lr=1e-3)\n",
        "loss_func = nn.CrossEntropyLoss()\n",
        "n_epochs = 40\n",
        "\n",
        "\n",
        "train_loss, val_loss, val_accuracy, train_acc = train_model(model, train_loader_short, test_loader, loss_func, opt, n_epochs)\n",
        "\n",
        "plot_train_process(train_loss, val_loss, val_accuracy, train_acc)"
      ]
    },
    {
      "cell_type": "markdown",
      "source": [
        "Как реализован overfitting?\n",
        "- добавлено множество дополнительных линейных слоев в модель\n",
        "- уменьшен размер трейнового сета до 2000\n",
        "- увеличено количество эпох обучения - 40\n",
        "\n",
        "На графике видно, что трейновый лосс падает одновременно с увеличенем лосса на тестовой выборке - переобучение наблюдается уже после 5 эпохи"
      ],
      "metadata": {
        "id": "zJdrwJE3jAp3"
      }
    },
    {
      "cell_type": "code",
      "source": [
        "get_acc(test_loader)"
      ],
      "metadata": {
        "colab": {
          "base_uri": "https://localhost:8080/"
        },
        "id": "ZndLOiCmU-VT",
        "outputId": "7648a988-0b29-42f0-cfa3-1ce5d63d59cc"
      },
      "execution_count": 26,
      "outputs": [
        {
          "output_type": "execute_result",
          "data": {
            "text/plain": [
              "78.45552884615384"
            ]
          },
          "metadata": {},
          "execution_count": 26
        }
      ]
    },
    {
      "cell_type": "markdown",
      "metadata": {
        "id": "9prZ30HNAsau"
      },
      "source": [
        "### Task 3: Fix it.\n",
        "Fix the overfitted network from the previous step (at least partially) by using regularization techniques (Dropout/Batchnorm/...) and demonstrate the results."
      ]
    },
    {
      "cell_type": "code",
      "execution_count": 27,
      "metadata": {
        "id": "IcxTrk0uAsav"
      },
      "outputs": [],
      "source": [
        "class FixedNeuralNetwork(nn.Module):\n",
        "    def __init__(self, input_shape=28*28, num_classes=10, input_channels=1):\n",
        "        super(self.__class__, self).__init__()\n",
        "        self.model = nn.Sequential(\n",
        "            nn.Flatten(), # This layer converts image into a vector to use Linear layers afterwards\n",
        "            # Your network structure comes here\n",
        "            nn.BatchNorm1d(input_shape),\n",
        "            nn.Dropout(0.5),\n",
        "            nn.Linear(input_shape, input_shape),\n",
        "            nn.ReLU(),\n",
        "            nn.BatchNorm1d(input_shape),\n",
        "            nn.Linear(input_shape, 392),\n",
        "            nn.ReLU(),\n",
        "            nn.Dropout(0.3),\n",
        "            nn.Linear(392, 320),\n",
        "            nn.Dropout(0.3),\n",
        "            nn.ReLU(),\n",
        "            nn.BatchNorm1d(320),\n",
        "            nn.Linear(320, 280),\n",
        "            nn.ReLU(),\n",
        "            nn.Linear(280, 220),\n",
        "            nn.ReLU(),\n",
        "            nn.Dropout(0.3),\n",
        "            nn.Linear(220, 220),\n",
        "            nn.ReLU(),\n",
        "            nn.BatchNorm1d(220),\n",
        "            nn.Linear(220, 180),\n",
        "            nn.ReLU(),\n",
        "            nn.Dropout(0.3),\n",
        "            nn.Linear(180, 120),\n",
        "            nn.ReLU(),\n",
        "            nn.BatchNorm1d(120),\n",
        "            nn.Linear(120, 80),\n",
        "            nn.ReLU(),\n",
        "            nn.Dropout(0.2),\n",
        "            nn.Linear(80, 20),\n",
        "            nn.ReLU(),\n",
        "            nn.Linear(20, num_classes),\n",
        "            nn.LogSoftmax(dim=1)\n",
        "        )\n",
        "\n",
        "    def forward(self, inp):\n",
        "        out = self.model(inp)\n",
        "        return out"
      ]
    },
    {
      "cell_type": "code",
      "execution_count": 28,
      "metadata": {
        "colab": {
          "base_uri": "https://localhost:8080/"
        },
        "id": "hcioCsp1Asav",
        "outputId": "71fe3078-1085-472d-fc5e-b29867e9065f"
      },
      "outputs": [
        {
          "output_type": "stream",
          "name": "stdout",
          "text": [
            "----------------------------------------------------------------\n",
            "        Layer (type)               Output Shape         Param #\n",
            "================================================================\n",
            "           Flatten-1                  [-1, 784]               0\n",
            "       BatchNorm1d-2                  [-1, 784]           1,568\n",
            "           Dropout-3                  [-1, 784]               0\n",
            "            Linear-4                  [-1, 784]         615,440\n",
            "              ReLU-5                  [-1, 784]               0\n",
            "       BatchNorm1d-6                  [-1, 784]           1,568\n",
            "            Linear-7                  [-1, 392]         307,720\n",
            "              ReLU-8                  [-1, 392]               0\n",
            "           Dropout-9                  [-1, 392]               0\n",
            "           Linear-10                  [-1, 320]         125,760\n",
            "          Dropout-11                  [-1, 320]               0\n",
            "             ReLU-12                  [-1, 320]               0\n",
            "      BatchNorm1d-13                  [-1, 320]             640\n",
            "           Linear-14                  [-1, 280]          89,880\n",
            "             ReLU-15                  [-1, 280]               0\n",
            "           Linear-16                  [-1, 220]          61,820\n",
            "             ReLU-17                  [-1, 220]               0\n",
            "          Dropout-18                  [-1, 220]               0\n",
            "           Linear-19                  [-1, 220]          48,620\n",
            "             ReLU-20                  [-1, 220]               0\n",
            "      BatchNorm1d-21                  [-1, 220]             440\n",
            "           Linear-22                  [-1, 180]          39,780\n",
            "             ReLU-23                  [-1, 180]               0\n",
            "          Dropout-24                  [-1, 180]               0\n",
            "           Linear-25                  [-1, 120]          21,720\n",
            "             ReLU-26                  [-1, 120]               0\n",
            "      BatchNorm1d-27                  [-1, 120]             240\n",
            "           Linear-28                   [-1, 80]           9,680\n",
            "             ReLU-29                   [-1, 80]               0\n",
            "          Dropout-30                   [-1, 80]               0\n",
            "           Linear-31                   [-1, 20]           1,620\n",
            "             ReLU-32                   [-1, 20]               0\n",
            "           Linear-33                   [-1, 10]             210\n",
            "       LogSoftmax-34                   [-1, 10]               0\n",
            "================================================================\n",
            "Total params: 1,326,706\n",
            "Trainable params: 1,326,706\n",
            "Non-trainable params: 0\n",
            "----------------------------------------------------------------\n",
            "Input size (MB): 0.00\n",
            "Forward/backward pass size (MB): 0.08\n",
            "Params size (MB): 5.06\n",
            "Estimated Total Size (MB): 5.14\n",
            "----------------------------------------------------------------\n"
          ]
        }
      ],
      "source": [
        "torchsummary.summary(FixedNeuralNetwork().to(device), (28*28,))"
      ]
    },
    {
      "cell_type": "code",
      "execution_count": 29,
      "metadata": {
        "colab": {
          "base_uri": "https://localhost:8080/",
          "height": 1000
        },
        "id": "K9G164ewAsav",
        "outputId": "832056a5-e67c-4d4d-927f-b2ffeb0aa0a2"
      },
      "outputs": [
        {
          "output_type": "stream",
          "name": "stdout",
          "text": [
            "Epoch 1 of 40\n",
            "\t  training loss: 2.252830\n",
            "\tvalidation loss: 2.289236\n",
            "\tvalidation accuracy: 0.102\n",
            "\ttrain accuracy: 0.130\n",
            "Epoch 2 of 40\n",
            "\t  training loss: 1.919568\n",
            "\tvalidation loss: 1.722593\n",
            "\tvalidation accuracy: 0.396\n",
            "\ttrain accuracy: 0.358\n",
            "Epoch 3 of 40\n",
            "\t  training loss: 1.493617\n",
            "\tvalidation loss: 1.215594\n",
            "\tvalidation accuracy: 0.556\n",
            "\ttrain accuracy: 0.463\n",
            "Epoch 4 of 40\n",
            "\t  training loss: 1.159296\n",
            "\tvalidation loss: 0.950450\n",
            "\tvalidation accuracy: 0.662\n",
            "\ttrain accuracy: 0.575\n",
            "Epoch 5 of 40\n",
            "\t  training loss: 0.901525\n",
            "\tvalidation loss: 0.797419\n",
            "\tvalidation accuracy: 0.700\n",
            "\ttrain accuracy: 0.690\n",
            "Epoch 6 of 40\n",
            "\t  training loss: 0.794014\n",
            "\tvalidation loss: 0.765764\n",
            "\tvalidation accuracy: 0.706\n",
            "\ttrain accuracy: 0.708\n",
            "Epoch 7 of 40\n",
            "\t  training loss: 0.724085\n",
            "\tvalidation loss: 0.684441\n",
            "\tvalidation accuracy: 0.759\n",
            "\ttrain accuracy: 0.739\n",
            "Epoch 8 of 40\n",
            "\t  training loss: 0.658542\n",
            "\tvalidation loss: 0.727413\n",
            "\tvalidation accuracy: 0.753\n",
            "\ttrain accuracy: 0.758\n",
            "Epoch 9 of 40\n",
            "\t  training loss: 0.623968\n",
            "\tvalidation loss: 0.675588\n",
            "\tvalidation accuracy: 0.757\n",
            "\ttrain accuracy: 0.767\n",
            "Epoch 10 of 40\n",
            "\t  training loss: 0.623952\n",
            "\tvalidation loss: 0.681160\n",
            "\tvalidation accuracy: 0.762\n",
            "\ttrain accuracy: 0.765\n",
            "Epoch 11 of 40\n",
            "\t  training loss: 0.600556\n",
            "\tvalidation loss: 0.702071\n",
            "\tvalidation accuracy: 0.755\n",
            "\ttrain accuracy: 0.778\n",
            "Epoch 12 of 40\n",
            "\t  training loss: 0.601759\n",
            "\tvalidation loss: 0.681065\n",
            "\tvalidation accuracy: 0.758\n",
            "\ttrain accuracy: 0.778\n",
            "Epoch 13 of 40\n",
            "\t  training loss: 0.557633\n",
            "\tvalidation loss: 0.655279\n",
            "\tvalidation accuracy: 0.769\n",
            "\ttrain accuracy: 0.798\n",
            "Epoch 14 of 40\n",
            "\t  training loss: 0.562774\n",
            "\tvalidation loss: 0.644668\n",
            "\tvalidation accuracy: 0.774\n",
            "\ttrain accuracy: 0.791\n",
            "Epoch 15 of 40\n",
            "\t  training loss: 0.537641\n",
            "\tvalidation loss: 0.636820\n",
            "\tvalidation accuracy: 0.780\n",
            "\ttrain accuracy: 0.812\n",
            "Epoch 16 of 40\n",
            "\t  training loss: 0.537097\n",
            "\tvalidation loss: 0.625949\n",
            "\tvalidation accuracy: 0.784\n",
            "\ttrain accuracy: 0.801\n",
            "Epoch 17 of 40\n",
            "\t  training loss: 0.536931\n",
            "\tvalidation loss: 0.668515\n",
            "\tvalidation accuracy: 0.779\n",
            "\ttrain accuracy: 0.805\n",
            "Epoch 18 of 40\n",
            "\t  training loss: 0.500828\n",
            "\tvalidation loss: 0.640608\n",
            "\tvalidation accuracy: 0.778\n",
            "\ttrain accuracy: 0.820\n",
            "Epoch 19 of 40\n",
            "\t  training loss: 0.530570\n",
            "\tvalidation loss: 0.674818\n",
            "\tvalidation accuracy: 0.770\n",
            "\ttrain accuracy: 0.813\n",
            "Epoch 20 of 40\n",
            "\t  training loss: 0.499255\n",
            "\tvalidation loss: 0.637377\n",
            "\tvalidation accuracy: 0.784\n",
            "\ttrain accuracy: 0.817\n",
            "Epoch 21 of 40\n",
            "\t  training loss: 0.502599\n",
            "\tvalidation loss: 0.593947\n",
            "\tvalidation accuracy: 0.801\n",
            "\ttrain accuracy: 0.802\n",
            "Epoch 22 of 40\n",
            "\t  training loss: 0.455807\n",
            "\tvalidation loss: 0.631939\n",
            "\tvalidation accuracy: 0.782\n",
            "\ttrain accuracy: 0.831\n",
            "Epoch 23 of 40\n",
            "\t  training loss: 0.502894\n",
            "\tvalidation loss: 0.665226\n",
            "\tvalidation accuracy: 0.785\n",
            "\ttrain accuracy: 0.812\n",
            "Epoch 24 of 40\n",
            "\t  training loss: 0.490686\n",
            "\tvalidation loss: 0.638511\n",
            "\tvalidation accuracy: 0.796\n",
            "\ttrain accuracy: 0.826\n",
            "Epoch 25 of 40\n",
            "\t  training loss: 0.489608\n",
            "\tvalidation loss: 0.625163\n",
            "\tvalidation accuracy: 0.793\n",
            "\ttrain accuracy: 0.827\n",
            "Epoch 26 of 40\n",
            "\t  training loss: 0.435559\n",
            "\tvalidation loss: 0.606348\n",
            "\tvalidation accuracy: 0.806\n",
            "\ttrain accuracy: 0.841\n",
            "Epoch 27 of 40\n",
            "\t  training loss: 0.448382\n",
            "\tvalidation loss: 0.603138\n",
            "\tvalidation accuracy: 0.806\n",
            "\ttrain accuracy: 0.828\n",
            "Epoch 28 of 40\n",
            "\t  training loss: 0.418031\n",
            "\tvalidation loss: 0.637218\n",
            "\tvalidation accuracy: 0.790\n",
            "\ttrain accuracy: 0.844\n",
            "Epoch 29 of 40\n",
            "\t  training loss: 0.424715\n",
            "\tvalidation loss: 0.604767\n",
            "\tvalidation accuracy: 0.808\n",
            "\ttrain accuracy: 0.849\n",
            "Epoch 30 of 40\n",
            "\t  training loss: 0.396454\n",
            "\tvalidation loss: 0.621051\n",
            "\tvalidation accuracy: 0.807\n",
            "\ttrain accuracy: 0.864\n",
            "Epoch 31 of 40\n",
            "\t  training loss: 0.398032\n",
            "\tvalidation loss: 0.630547\n",
            "\tvalidation accuracy: 0.806\n",
            "\ttrain accuracy: 0.865\n",
            "Epoch 32 of 40\n",
            "\t  training loss: 0.400676\n",
            "\tvalidation loss: 0.647534\n",
            "\tvalidation accuracy: 0.805\n",
            "\ttrain accuracy: 0.863\n",
            "Epoch 33 of 40\n",
            "\t  training loss: 0.413603\n",
            "\tvalidation loss: 0.640755\n",
            "\tvalidation accuracy: 0.810\n",
            "\ttrain accuracy: 0.851\n",
            "Epoch 34 of 40\n",
            "\t  training loss: 0.398272\n",
            "\tvalidation loss: 0.602567\n",
            "\tvalidation accuracy: 0.817\n",
            "\ttrain accuracy: 0.864\n",
            "Epoch 35 of 40\n",
            "\t  training loss: 0.430518\n",
            "\tvalidation loss: 0.626454\n",
            "\tvalidation accuracy: 0.812\n",
            "\ttrain accuracy: 0.854\n",
            "Epoch 36 of 40\n",
            "\t  training loss: 0.354534\n",
            "\tvalidation loss: 0.587986\n",
            "\tvalidation accuracy: 0.819\n",
            "\ttrain accuracy: 0.877\n",
            "Epoch 37 of 40\n",
            "\t  training loss: 0.360572\n",
            "\tvalidation loss: 0.607705\n",
            "\tvalidation accuracy: 0.814\n",
            "\ttrain accuracy: 0.877\n",
            "Epoch 38 of 40\n",
            "\t  training loss: 0.399910\n",
            "\tvalidation loss: 0.653464\n",
            "\tvalidation accuracy: 0.800\n",
            "\ttrain accuracy: 0.868\n",
            "Epoch 39 of 40\n",
            "\t  training loss: 0.390556\n",
            "\tvalidation loss: 0.643740\n",
            "\tvalidation accuracy: 0.813\n",
            "\ttrain accuracy: 0.870\n",
            "Epoch 40 of 40\n",
            "\t  training loss: 0.384921\n",
            "\tvalidation loss: 0.597723\n",
            "\tvalidation accuracy: 0.812\n",
            "\ttrain accuracy: 0.871\n"
          ]
        },
        {
          "output_type": "display_data",
          "data": {
            "text/plain": [
              "<Figure size 1500x500 with 2 Axes>"
            ],
            "image/png": "[encoded data removed]"
          },
          "metadata": {}
        }
      ],
      "source": [
        "model = FixedNeuralNetwork().to(device)\n",
        "opt  = torch.optim.Adam(model.parameters(), lr=1e-3)\n",
        "loss_func = nn.CrossEntropyLoss()\n",
        "n_epochs = 40\n",
        "\n",
        "\n",
        "train_loss, val_loss, val_accuracy, train_acc = train_model(model, train_loader_short, test_loader, loss_func, opt, n_epochs)\n",
        "\n",
        "plot_train_process(train_loss, val_loss, val_accuracy, train_acc)"
      ]
    },
    {
      "cell_type": "markdown",
      "source": [
        "Внесла изменения только в структуру модели - добавила много BN's и DropOut's и запустила ее на коротком трейне (длиной 2000) и с тем же количеством эпох (40), как и для переобученной сети.\n",
        "\n",
        "На графике явного переобучения не наблюдается - тестовый лосс хотя бы не растет, также увеличалась точность по сравнению со вторым пунктом. Но 40 эпох - все равно слишком много для такой сети, после 20 эпохи тестовый лосс довольно константный."
      ],
      "metadata": {
        "id": "L6QBJ5yhkOUG"
      }
    },
    {
      "cell_type": "code",
      "source": [
        "get_acc(test_loader)"
      ],
      "metadata": {
        "id": "irlb7iggYCDB",
        "outputId": "fd380cbe-7b55-41d7-b375-4641556b87b8",
        "colab": {
          "base_uri": "https://localhost:8080/"
        }
      },
      "execution_count": 30,
      "outputs": [
        {
          "output_type": "execute_result",
          "data": {
            "text/plain": [
              "81.28004807692308"
            ]
          },
          "metadata": {},
          "execution_count": 30
        }
      ]
    },
    {
      "cell_type": "markdown",
      "metadata": {
        "id": "dMui_uLJ7G0d"
      },
      "source": [
        "### Conclusions:\n",
        "_Write down small report with your conclusions and your ideas._"
      ]
    },
    {
      "cell_type": "markdown",
      "source": [
        "1. даже с помощью одних линейных слоев можно более-менее классифицировать изображения, если считать точность порядка 0.89 приемлемой\n",
        "2. по результатам экспериментов пункта 2 и 3 можно сделать вывод, что причины переобучения модели во многом скрываются в ее внутренней структуре: при том же коротком трейновом сете и количестве эпох явного переобучения в пункте 3 не наблюдается, тестовый лосс просто остается постоянным. В прочем, это не отменяет того, что данные параметры имеют прямое влияние на переобучение.\n",
        "3. главная идея для меня - не нужно перегружать модель) в части 1 модель имела всего 388,286 параметров и уже могла выдавать приемлемую классификацию. В части 2 у модели уже 1,323,818 параметров, что требует довольно много вычислительных ресурсов, но качество при этом понизилось. В части 3 с помощью 5 BN's и 6 DO's получилось улучшить качество, задействовав 1,326,706 параметров, но точность классификации все равно не меньше чем достигнутая в пункте 1"
      ],
      "metadata": {
        "id": "b-chnPMhkxr0"
      }
    },
    {
      "cell_type": "code",
      "source": [],
      "metadata": {
        "id": "rT6DNf6YmoVo"
      },
      "execution_count": null,
      "outputs": []
    }
  ],
  "metadata": {
    "accelerator": "GPU",
    "colab": {
      "provenance": [],
      "gpuType": "T4"
    },
    "kernelspec": {
      "display_name": "Python 3",
      "name": "python3"
    },
    "language_info": {
      "codemirror_mode": {
        "name": "ipython",
        "version": 3
      },
      "file_extension": ".py",
      "mimetype": "text/x-python",
      "name": "python",
      "nbconvert_exporter": "python",
      "pygments_lexer": "ipython3",
      "version": "3.7.7"
    }
  },
  "nbformat": 4,
  "nbformat_minor": 0
}